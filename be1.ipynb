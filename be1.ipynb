{
 "cells": [
  {
   "cell_type": "code",
   "execution_count": null,
   "id": "08f7b469-3464-4255-bd47-12ef7c0c39e2",
   "metadata": {},
   "outputs": [],
   "source": [
    "pip install flask"
   ]
  },
  {
   "cell_type": "code",
   "execution_count": null,
   "id": "ecad4a69-44c1-465e-b8cc-9fe01d2c30d9",
   "metadata": {},
   "outputs": [],
   "source": [
    "from flask import Flask, render_template, request, redirect, url_for\n",
    "import sqlite3\n",
    "import os\n",
    "\n",
    "app = Flask(__name__)\n",
    "\n",
    "# Define the path for the SQLite database using current working directory\n",
    "db_path = os.path.join(os.getcwd(), 'farming.db')\n",
    "\n",
    "# Initialize the database\n",
    "def init_db():\n",
    "    with sqlite3.connect(db_path) as conn:\n",
    "        cursor = conn.cursor()\n",
    "        cursor.execute('''\n",
    "            CREATE TABLE IF NOT EXISTS farm_data (\n",
    "                id INTEGER PRIMARY KEY AUTOINCREMENT,\n",
    "                field_name TEXT,\n",
    "                crop_type TEXT,\n",
    "                moisture INTEGER,\n",
    "                ph REAL,\n",
    "                temperature INTEGER,\n",
    "                growth_stage TEXT\n",
    "            )\n",
    "        ''')\n",
    "        conn.commit()\n",
    "\n",
    "# Home route to display data and form\n",
    "@app.route('/')\n",
    "def home():\n",
    "    with sqlite3.connect(db_path) as conn:\n",
    "        cursor = conn.cursor()\n",
    "        cursor.execute(\"SELECT * FROM farm_data\")\n",
    "        data = cursor.fetchall()\n",
    "    return render_template('index.html', data=data)\n",
    "\n",
    "# Route to handle user input\n",
    "@app.route('/add', methods=['POST'])\n",
    "def add_data():\n",
    "    if request.method == 'POST':\n",
    "        field_name = request.form['field_name']\n",
    "        crop_type = request.form['crop_type']\n",
    "        moisture = request.form['moisture']\n",
    "        ph = request.form['ph']\n",
    "        temperature = request.form['temperature']\n",
    "        growth_stage = request.form['growth_stage']\n",
    "\n",
    "        with sqlite3.connect(db_path) as conn:\n",
    "            cursor = conn.cursor()\n",
    "            cursor.execute(\n",
    "                \"INSERT INTO farm_data (field_name, crop_type, moisture, ph, temperature, growth_stage) VALUES (?, ?, ?, ?, ?, ?)\",\n",
    "                (field_name, crop_type, moisture, ph, temperature, growth_stage)\n",
    "            )\n",
    "            conn.commit()\n",
    "\n",
    "        return redirect(url_for('home'))\n",
    "\n",
    "# Explicitly defining entry point for Flask app\n",
    "if __name__ == '__main__':\n",
    "    init_db()  # Initialize the database if it doesn't exist\n",
    "    app.run(debug=True, use_reloader=False)\n"
   ]
  },
  {
   "cell_type": "code",
   "execution_count": null,
   "id": "5c54279e-f7a5-472a-a69e-68f9cddf34c7",
   "metadata": {},
   "outputs": [],
   "source": []
  }
 ],
 "metadata": {
  "kernelspec": {
   "display_name": "Python 3 (ipykernel)",
   "language": "python",
   "name": "python3"
  },
  "language_info": {
   "codemirror_mode": {
    "name": "ipython",
    "version": 3
   },
   "file_extension": ".py",
   "mimetype": "text/x-python",
   "name": "python",
   "nbconvert_exporter": "python",
   "pygments_lexer": "ipython3",
   "version": "3.11.7"
  }
 },
 "nbformat": 4,
 "nbformat_minor": 5
}
